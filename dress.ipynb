{
 "cells": [
  {
   "cell_type": "markdown",
   "metadata": {
    "colab_type": "text",
    "id": "0VyBhuR3yAtg"
   },
   "source": [
    "Important library that we use in our convolution neural network"
   ]
  },
  {
   "cell_type": "code",
   "execution_count": 0,
   "metadata": {
    "colab": {},
    "colab_type": "code",
    "id": "ZP9vcwcIdp44"
   },
   "outputs": [],
   "source": [
    "import keras\n",
    "from keras.models import Sequential\n",
    "\n",
    "from keras import regularizers, optimizers\n",
    "from keras.layers import Convolution2D\n",
    "\n",
    "from keras_preprocessing.image import ImageDataGenerator\n",
    "from keras.layers import Dense, Activation, Flatten, Dropout, BatchNormalization\n",
    "from keras.layers import Conv2D, MaxPooling2D\n",
    "from keras import regularizers, optimizers\n",
    "from keras.optimizers import adam"
   ]
  },
  {
   "cell_type": "code",
   "execution_count": 0,
   "metadata": {
    "colab": {},
    "colab_type": "code",
    "id": "i08lhWAGx4Mb"
   },
   "outputs": [],
   "source": [
    "import pandas as pd\n",
    "from google.colab import files\n"
   ]
  },
  {
   "cell_type": "markdown",
   "metadata": {
    "colab_type": "text",
    "id": "MMtQGsQbyQ_k"
   },
   "source": [
    "library to import pandas and upload files on collab"
   ]
  },
  {
   "cell_type": "code",
   "execution_count": 0,
   "metadata": {
    "colab": {
     "base_uri": "https://localhost:8080/",
     "height": 74,
     "resources": {
      "http://localhost:8080/nbextensions/google.colab/files.js": {
       "data": "Ly8gQ29weXJpZ2h0IDIwMTcgR29vZ2xlIExMQwovLwovLyBMaWNlbnNlZCB1bmRlciB0aGUgQXBhY2hlIExpY2Vuc2UsIFZlcnNpb24gMi4wICh0aGUgIkxpY2Vuc2UiKTsKLy8geW91IG1heSBub3QgdXNlIHRoaXMgZmlsZSBleGNlcHQgaW4gY29tcGxpYW5jZSB3aXRoIHRoZSBMaWNlbnNlLgovLyBZb3UgbWF5IG9idGFpbiBhIGNvcHkgb2YgdGhlIExpY2Vuc2UgYXQKLy8KLy8gICAgICBodHRwOi8vd3d3LmFwYWNoZS5vcmcvbGljZW5zZXMvTElDRU5TRS0yLjAKLy8KLy8gVW5sZXNzIHJlcXVpcmVkIGJ5IGFwcGxpY2FibGUgbGF3IG9yIGFncmVlZCB0byBpbiB3cml0aW5nLCBzb2Z0d2FyZQovLyBkaXN0cmlidXRlZCB1bmRlciB0aGUgTGljZW5zZSBpcyBkaXN0cmlidXRlZCBvbiBhbiAiQVMgSVMiIEJBU0lTLAovLyBXSVRIT1VUIFdBUlJBTlRJRVMgT1IgQ09ORElUSU9OUyBPRiBBTlkgS0lORCwgZWl0aGVyIGV4cHJlc3Mgb3IgaW1wbGllZC4KLy8gU2VlIHRoZSBMaWNlbnNlIGZvciB0aGUgc3BlY2lmaWMgbGFuZ3VhZ2UgZ292ZXJuaW5nIHBlcm1pc3Npb25zIGFuZAovLyBsaW1pdGF0aW9ucyB1bmRlciB0aGUgTGljZW5zZS4KCi8qKgogKiBAZmlsZW92ZXJ2aWV3IEhlbHBlcnMgZm9yIGdvb2dsZS5jb2xhYiBQeXRob24gbW9kdWxlLgogKi8KKGZ1bmN0aW9uKHNjb3BlKSB7CmZ1bmN0aW9uIHNwYW4odGV4dCwgc3R5bGVBdHRyaWJ1dGVzID0ge30pIHsKICBjb25zdCBlbGVtZW50ID0gZG9jdW1lbnQuY3JlYXRlRWxlbWVudCgnc3BhbicpOwogIGVsZW1lbnQudGV4dENvbnRlbnQgPSB0ZXh0OwogIGZvciAoY29uc3Qga2V5IG9mIE9iamVjdC5rZXlzKHN0eWxlQXR0cmlidXRlcykpIHsKICAgIGVsZW1lbnQuc3R5bGVba2V5XSA9IHN0eWxlQXR0cmlidXRlc1trZXldOwogIH0KICByZXR1cm4gZWxlbWVudDsKfQoKLy8gTWF4IG51bWJlciBvZiBieXRlcyB3aGljaCB3aWxsIGJlIHVwbG9hZGVkIGF0IGEgdGltZS4KY29uc3QgTUFYX1BBWUxPQURfU0laRSA9IDEwMCAqIDEwMjQ7Ci8vIE1heCBhbW91bnQgb2YgdGltZSB0byBibG9jayB3YWl0aW5nIGZvciB0aGUgdXNlci4KY29uc3QgRklMRV9DSEFOR0VfVElNRU9VVF9NUyA9IDMwICogMTAwMDsKCmZ1bmN0aW9uIF91cGxvYWRGaWxlcyhpbnB1dElkLCBvdXRwdXRJZCkgewogIGNvbnN0IHN0ZXBzID0gdXBsb2FkRmlsZXNTdGVwKGlucHV0SWQsIG91dHB1dElkKTsKICBjb25zdCBvdXRwdXRFbGVtZW50ID0gZG9jdW1lbnQuZ2V0RWxlbWVudEJ5SWQob3V0cHV0SWQpOwogIC8vIENhY2hlIHN0ZXBzIG9uIHRoZSBvdXRwdXRFbGVtZW50IHRvIG1ha2UgaXQgYXZhaWxhYmxlIGZvciB0aGUgbmV4dCBjYWxsCiAgLy8gdG8gdXBsb2FkRmlsZXNDb250aW51ZSBmcm9tIFB5dGhvbi4KICBvdXRwdXRFbGVtZW50LnN0ZXBzID0gc3RlcHM7CgogIHJldHVybiBfdXBsb2FkRmlsZXNDb250aW51ZShvdXRwdXRJZCk7Cn0KCi8vIFRoaXMgaXMgcm91Z2hseSBhbiBhc3luYyBnZW5lcmF0b3IgKG5vdCBzdXBwb3J0ZWQgaW4gdGhlIGJyb3dzZXIgeWV0KSwKLy8gd2hlcmUgdGhlcmUgYXJlIG11bHRpcGxlIGFzeW5jaHJvbm91cyBzdGVwcyBhbmQgdGhlIFB5dGhvbiBzaWRlIGlzIGdvaW5nCi8vIHRvIHBvbGwgZm9yIGNvbXBsZXRpb24gb2YgZWFjaCBzdGVwLgovLyBUaGlzIHVzZXMgYSBQcm9taXNlIHRvIGJsb2NrIHRoZSBweXRob24gc2lkZSBvbiBjb21wbGV0aW9uIG9mIGVhY2ggc3RlcCwKLy8gdGhlbiBwYXNzZXMgdGhlIHJlc3VsdCBvZiB0aGUgcHJldmlvdXMgc3RlcCBhcyB0aGUgaW5wdXQgdG8gdGhlIG5leHQgc3RlcC4KZnVuY3Rpb24gX3VwbG9hZEZpbGVzQ29udGludWUob3V0cHV0SWQpIHsKICBjb25zdCBvdXRwdXRFbGVtZW50ID0gZG9jdW1lbnQuZ2V0RWxlbWVudEJ5SWQob3V0cHV0SWQpOwogIGNvbnN0IHN0ZXBzID0gb3V0cHV0RWxlbWVudC5zdGVwczsKCiAgY29uc3QgbmV4dCA9IHN0ZXBzLm5leHQob3V0cHV0RWxlbWVudC5sYXN0UHJvbWlzZVZhbHVlKTsKICByZXR1cm4gUHJvbWlzZS5yZXNvbHZlKG5leHQudmFsdWUucHJvbWlzZSkudGhlbigodmFsdWUpID0+IHsKICAgIC8vIENhY2hlIHRoZSBsYXN0IHByb21pc2UgdmFsdWUgdG8gbWFrZSBpdCBhdmFpbGFibGUgdG8gdGhlIG5leHQKICAgIC8vIHN0ZXAgb2YgdGhlIGdlbmVyYXRvci4KICAgIG91dHB1dEVsZW1lbnQubGFzdFByb21pc2VWYWx1ZSA9IHZhbHVlOwogICAgcmV0dXJuIG5leHQudmFsdWUucmVzcG9uc2U7CiAgfSk7Cn0KCi8qKgogKiBHZW5lcmF0b3IgZnVuY3Rpb24gd2hpY2ggaXMgY2FsbGVkIGJldHdlZW4gZWFjaCBhc3luYyBzdGVwIG9mIHRoZSB1cGxvYWQKICogcHJvY2Vzcy4KICogQHBhcmFtIHtzdHJpbmd9IGlucHV0SWQgRWxlbWVudCBJRCBvZiB0aGUgaW5wdXQgZmlsZSBwaWNrZXIgZWxlbWVudC4KICogQHBhcmFtIHtzdHJpbmd9IG91dHB1dElkIEVsZW1lbnQgSUQgb2YgdGhlIG91dHB1dCBkaXNwbGF5LgogKiBAcmV0dXJuIHshSXRlcmFibGU8IU9iamVjdD59IEl0ZXJhYmxlIG9mIG5leHQgc3RlcHMuCiAqLwpmdW5jdGlvbiogdXBsb2FkRmlsZXNTdGVwKGlucHV0SWQsIG91dHB1dElkKSB7CiAgY29uc3QgaW5wdXRFbGVtZW50ID0gZG9jdW1lbnQuZ2V0RWxlbWVudEJ5SWQoaW5wdXRJZCk7CiAgaW5wdXRFbGVtZW50LmRpc2FibGVkID0gZmFsc2U7CgogIGNvbnN0IG91dHB1dEVsZW1lbnQgPSBkb2N1bWVudC5nZXRFbGVtZW50QnlJZChvdXRwdXRJZCk7CiAgb3V0cHV0RWxlbWVudC5pbm5lckhUTUwgPSAnJzsKCiAgY29uc3QgcGlja2VkUHJvbWlzZSA9IG5ldyBQcm9taXNlKChyZXNvbHZlKSA9PiB7CiAgICBpbnB1dEVsZW1lbnQuYWRkRXZlbnRMaXN0ZW5lcignY2hhbmdlJywgKGUpID0+IHsKICAgICAgcmVzb2x2ZShlLnRhcmdldC5maWxlcyk7CiAgICB9KTsKICB9KTsKCiAgY29uc3QgY2FuY2VsID0gZG9jdW1lbnQuY3JlYXRlRWxlbWVudCgnYnV0dG9uJyk7CiAgaW5wdXRFbGVtZW50LnBhcmVudEVsZW1lbnQuYXBwZW5kQ2hpbGQoY2FuY2VsKTsKICBjYW5jZWwudGV4dENvbnRlbnQgPSAnQ2FuY2VsIHVwbG9hZCc7CiAgY29uc3QgY2FuY2VsUHJvbWlzZSA9IG5ldyBQcm9taXNlKChyZXNvbHZlKSA9PiB7CiAgICBjYW5jZWwub25jbGljayA9ICgpID0+IHsKICAgICAgcmVzb2x2ZShudWxsKTsKICAgIH07CiAgfSk7CgogIC8vIENhbmNlbCB1cGxvYWQgaWYgdXNlciBoYXNuJ3QgcGlja2VkIGFueXRoaW5nIGluIHRpbWVvdXQuCiAgY29uc3QgdGltZW91dFByb21pc2UgPSBuZXcgUHJvbWlzZSgocmVzb2x2ZSkgPT4gewogICAgc2V0VGltZW91dCgoKSA9PiB7CiAgICAgIHJlc29sdmUobnVsbCk7CiAgICB9LCBGSUxFX0NIQU5HRV9USU1FT1VUX01TKTsKICB9KTsKCiAgLy8gV2FpdCBmb3IgdGhlIHVzZXIgdG8gcGljayB0aGUgZmlsZXMuCiAgY29uc3QgZmlsZXMgPSB5aWVsZCB7CiAgICBwcm9taXNlOiBQcm9taXNlLnJhY2UoW3BpY2tlZFByb21pc2UsIHRpbWVvdXRQcm9taXNlLCBjYW5jZWxQcm9taXNlXSksCiAgICByZXNwb25zZTogewogICAgICBhY3Rpb246ICdzdGFydGluZycsCiAgICB9CiAgfTsKCiAgaWYgKCFmaWxlcykgewogICAgcmV0dXJuIHsKICAgICAgcmVzcG9uc2U6IHsKICAgICAgICBhY3Rpb246ICdjb21wbGV0ZScsCiAgICAgIH0KICAgIH07CiAgfQoKICBjYW5jZWwucmVtb3ZlKCk7CgogIC8vIERpc2FibGUgdGhlIGlucHV0IGVsZW1lbnQgc2luY2UgZnVydGhlciBwaWNrcyBhcmUgbm90IGFsbG93ZWQuCiAgaW5wdXRFbGVtZW50LmRpc2FibGVkID0gdHJ1ZTsKCiAgZm9yIChjb25zdCBmaWxlIG9mIGZpbGVzKSB7CiAgICBjb25zdCBsaSA9IGRvY3VtZW50LmNyZWF0ZUVsZW1lbnQoJ2xpJyk7CiAgICBsaS5hcHBlbmQoc3BhbihmaWxlLm5hbWUsIHtmb250V2VpZ2h0OiAnYm9sZCd9KSk7CiAgICBsaS5hcHBlbmQoc3BhbigKICAgICAgICBgKCR7ZmlsZS50eXBlIHx8ICduL2EnfSkgLSAke2ZpbGUuc2l6ZX0gYnl0ZXMsIGAgKwogICAgICAgIGBsYXN0IG1vZGlmaWVkOiAkewogICAgICAgICAgICBmaWxlLmxhc3RNb2RpZmllZERhdGUgPyBmaWxlLmxhc3RNb2RpZmllZERhdGUudG9Mb2NhbGVEYXRlU3RyaW5nKCkgOgogICAgICAgICAgICAgICAgICAgICAgICAgICAgICAgICAgICAnbi9hJ30gLSBgKSk7CiAgICBjb25zdCBwZXJjZW50ID0gc3BhbignMCUgZG9uZScpOwogICAgbGkuYXBwZW5kQ2hpbGQocGVyY2VudCk7CgogICAgb3V0cHV0RWxlbWVudC5hcHBlbmRDaGlsZChsaSk7CgogICAgY29uc3QgZmlsZURhdGFQcm9taXNlID0gbmV3IFByb21pc2UoKHJlc29sdmUpID0+IHsKICAgICAgY29uc3QgcmVhZGVyID0gbmV3IEZpbGVSZWFkZXIoKTsKICAgICAgcmVhZGVyLm9ubG9hZCA9IChlKSA9PiB7CiAgICAgICAgcmVzb2x2ZShlLnRhcmdldC5yZXN1bHQpOwogICAgICB9OwogICAgICByZWFkZXIucmVhZEFzQXJyYXlCdWZmZXIoZmlsZSk7CiAgICB9KTsKICAgIC8vIFdhaXQgZm9yIHRoZSBkYXRhIHRvIGJlIHJlYWR5LgogICAgbGV0IGZpbGVEYXRhID0geWllbGQgewogICAgICBwcm9taXNlOiBmaWxlRGF0YVByb21pc2UsCiAgICAgIHJlc3BvbnNlOiB7CiAgICAgICAgYWN0aW9uOiAnY29udGludWUnLAogICAgICB9CiAgICB9OwoKICAgIC8vIFVzZSBhIGNodW5rZWQgc2VuZGluZyB0byBhdm9pZCBtZXNzYWdlIHNpemUgbGltaXRzLiBTZWUgYi82MjExNTY2MC4KICAgIGxldCBwb3NpdGlvbiA9IDA7CiAgICB3aGlsZSAocG9zaXRpb24gPCBmaWxlRGF0YS5ieXRlTGVuZ3RoKSB7CiAgICAgIGNvbnN0IGxlbmd0aCA9IE1hdGgubWluKGZpbGVEYXRhLmJ5dGVMZW5ndGggLSBwb3NpdGlvbiwgTUFYX1BBWUxPQURfU0laRSk7CiAgICAgIGNvbnN0IGNodW5rID0gbmV3IFVpbnQ4QXJyYXkoZmlsZURhdGEsIHBvc2l0aW9uLCBsZW5ndGgpOwogICAgICBwb3NpdGlvbiArPSBsZW5ndGg7CgogICAgICBjb25zdCBiYXNlNjQgPSBidG9hKFN0cmluZy5mcm9tQ2hhckNvZGUuYXBwbHkobnVsbCwgY2h1bmspKTsKICAgICAgeWllbGQgewogICAgICAgIHJlc3BvbnNlOiB7CiAgICAgICAgICBhY3Rpb246ICdhcHBlbmQnLAogICAgICAgICAgZmlsZTogZmlsZS5uYW1lLAogICAgICAgICAgZGF0YTogYmFzZTY0LAogICAgICAgIH0sCiAgICAgIH07CiAgICAgIHBlcmNlbnQudGV4dENvbnRlbnQgPQogICAgICAgICAgYCR7TWF0aC5yb3VuZCgocG9zaXRpb24gLyBmaWxlRGF0YS5ieXRlTGVuZ3RoKSAqIDEwMCl9JSBkb25lYDsKICAgIH0KICB9CgogIC8vIEFsbCBkb25lLgogIHlpZWxkIHsKICAgIHJlc3BvbnNlOiB7CiAgICAgIGFjdGlvbjogJ2NvbXBsZXRlJywKICAgIH0KICB9Owp9CgpzY29wZS5nb29nbGUgPSBzY29wZS5nb29nbGUgfHwge307CnNjb3BlLmdvb2dsZS5jb2xhYiA9IHNjb3BlLmdvb2dsZS5jb2xhYiB8fCB7fTsKc2NvcGUuZ29vZ2xlLmNvbGFiLl9maWxlcyA9IHsKICBfdXBsb2FkRmlsZXMsCiAgX3VwbG9hZEZpbGVzQ29udGludWUsCn07Cn0pKHNlbGYpOwo=",
       "headers": [
        [
         "content-type",
         "application/javascript"
        ]
       ],
       "ok": true,
       "status": 200,
       "status_text": ""
      }
     }
    },
    "colab_type": "code",
    "executionInfo": {
     "elapsed": 168846,
     "status": "ok",
     "timestamp": 1554873658215,
     "user": {
      "displayName": "ashish saha",
      "photoUrl": "",
      "userId": "18114302892867303288"
     },
     "user_tz": -330
    },
    "id": "KFqzzNIar45J",
    "outputId": "dea56234-9487-4379-8d83-fec42f2e0fd4"
   },
   "outputs": [
    {
     "data": {
      "text/html": [
       "\n",
       "     <input type=\"file\" id=\"files-1324f9f6-9351-4619-8a1c-ad7355bf9cca\" name=\"files[]\" multiple disabled />\n",
       "     <output id=\"result-1324f9f6-9351-4619-8a1c-ad7355bf9cca\">\n",
       "      Upload widget is only available when the cell has been executed in the\n",
       "      current browser session. Please rerun this cell to enable.\n",
       "      </output>\n",
       "      <script src=\"/nbextensions/google.colab/files.js\"></script> "
      ],
      "text/plain": [
       "<IPython.core.display.HTML object>"
      ]
     },
     "metadata": {
      "tags": []
     },
     "output_type": "display_data"
    },
    {
     "name": "stdout",
     "output_type": "stream",
     "text": [
      "Saving dress_patterns.csv to dress_patterns.csv\n"
     ]
    }
   ],
   "source": [
    "upload=files.upload()"
   ]
  },
  {
   "cell_type": "code",
   "execution_count": 0,
   "metadata": {
    "colab": {},
    "colab_type": "code",
    "id": "PgCoLW4Tuc-U"
   },
   "outputs": [],
   "source": [
    "dataset=pd.read_csv('dress_patterns.csv')"
   ]
  },
  {
   "cell_type": "code",
   "execution_count": 44,
   "metadata": {
    "colab": {
     "base_uri": "https://localhost:8080/",
     "height": 102
    },
    "colab_type": "code",
    "executionInfo": {
     "elapsed": 3167,
     "status": "ok",
     "timestamp": 1554906288122,
     "user": {
      "displayName": "ashish saha",
      "photoUrl": "",
      "userId": "18114302892867303288"
     },
     "user_tz": -330
    },
    "id": "iVdWX1sN0jNd",
    "outputId": "fb542351-5d39-4d70-970d-48a95b24c5bb"
   },
   "outputs": [
    {
     "data": {
      "text/plain": [
       "_unit_id               0\n",
       "category               0\n",
       "category:confidence    0\n",
       "image_url              0\n",
       "dtype: int64"
      ]
     },
     "execution_count": 44,
     "metadata": {
      "tags": []
     },
     "output_type": "execute_result"
    }
   ],
   "source": [
    "dataset.isnull().sum()"
   ]
  },
  {
   "cell_type": "markdown",
   "metadata": {
    "colab_type": "text",
    "id": "C19lMWVPdqed"
   },
   "source": [
    "here we analyse that there are no null data in our dataset"
   ]
  },
  {
   "cell_type": "code",
   "execution_count": 0,
   "metadata": {
    "colab": {
     "base_uri": "https://localhost:8080/",
     "height": 204
    },
    "colab_type": "code",
    "executionInfo": {
     "elapsed": 2233,
     "status": "ok",
     "timestamp": 1554873690438,
     "user": {
      "displayName": "ashish saha",
      "photoUrl": "",
      "userId": "18114302892867303288"
     },
     "user_tz": -330
    },
    "id": "_835CDSovhfy",
    "outputId": "c8a1b778-f95a-4ec5-db6f-445d743cad7e"
   },
   "outputs": [
    {
     "data": {
      "text/html": [
       "<div>\n",
       "<style scoped>\n",
       "    .dataframe tbody tr th:only-of-type {\n",
       "        vertical-align: middle;\n",
       "    }\n",
       "\n",
       "    .dataframe tbody tr th {\n",
       "        vertical-align: top;\n",
       "    }\n",
       "\n",
       "    .dataframe thead th {\n",
       "        text-align: right;\n",
       "    }\n",
       "</style>\n",
       "<table border=\"1\" class=\"dataframe\">\n",
       "  <thead>\n",
       "    <tr style=\"text-align: right;\">\n",
       "      <th></th>\n",
       "      <th>_unit_id</th>\n",
       "      <th>category</th>\n",
       "      <th>category:confidence</th>\n",
       "      <th>image_url</th>\n",
       "    </tr>\n",
       "  </thead>\n",
       "  <tbody>\n",
       "    <tr>\n",
       "      <th>15697</th>\n",
       "      <td>854497210</td>\n",
       "      <td>plain</td>\n",
       "      <td>1.0000</td>\n",
       "      <td>http://s3-eu-west-1.amazonaws.com/we-attribute...</td>\n",
       "    </tr>\n",
       "    <tr>\n",
       "      <th>15698</th>\n",
       "      <td>854497281</td>\n",
       "      <td>floral</td>\n",
       "      <td>1.0000</td>\n",
       "      <td>http://s3-eu-west-1.amazonaws.com/we-attribute...</td>\n",
       "    </tr>\n",
       "    <tr>\n",
       "      <th>15699</th>\n",
       "      <td>854497512</td>\n",
       "      <td>squares</td>\n",
       "      <td>0.9230</td>\n",
       "      <td>http://s3-eu-west-1.amazonaws.com/we-attribute...</td>\n",
       "    </tr>\n",
       "    <tr>\n",
       "      <th>15700</th>\n",
       "      <td>854497595</td>\n",
       "      <td>tribal</td>\n",
       "      <td>0.5199</td>\n",
       "      <td>http://s3-eu-west-1.amazonaws.com/we-attribute...</td>\n",
       "    </tr>\n",
       "    <tr>\n",
       "      <th>15701</th>\n",
       "      <td>856388654</td>\n",
       "      <td>polka dot</td>\n",
       "      <td>0.9618</td>\n",
       "      <td>http://s3-eu-west-1.amazonaws.com/we-attribute...</td>\n",
       "    </tr>\n",
       "  </tbody>\n",
       "</table>\n",
       "</div>"
      ],
      "text/plain": [
       "        _unit_id   category  category:confidence  \\\n",
       "15697  854497210      plain               1.0000   \n",
       "15698  854497281     floral               1.0000   \n",
       "15699  854497512    squares               0.9230   \n",
       "15700  854497595     tribal               0.5199   \n",
       "15701  856388654  polka dot               0.9618   \n",
       "\n",
       "                                               image_url  \n",
       "15697  http://s3-eu-west-1.amazonaws.com/we-attribute...  \n",
       "15698  http://s3-eu-west-1.amazonaws.com/we-attribute...  \n",
       "15699  http://s3-eu-west-1.amazonaws.com/we-attribute...  \n",
       "15700  http://s3-eu-west-1.amazonaws.com/we-attribute...  \n",
       "15701  http://s3-eu-west-1.amazonaws.com/we-attribute...  "
      ]
     },
     "execution_count": 7,
     "metadata": {
      "tags": []
     },
     "output_type": "execute_result"
    }
   ],
   "source": [
    "dataset.tail()"
   ]
  },
  {
   "cell_type": "code",
   "execution_count": 0,
   "metadata": {
    "colab": {
     "base_uri": "https://localhost:8080/",
     "height": 34
    },
    "colab_type": "code",
    "executionInfo": {
     "elapsed": 2165,
     "status": "ok",
     "timestamp": 1554873695682,
     "user": {
      "displayName": "ashish saha",
      "photoUrl": "",
      "userId": "18114302892867303288"
     },
     "user_tz": -330
    },
    "id": "UOQgReJV7Qg-",
    "outputId": "61f010a4-1fc1-4734-9cd1-da5e6ca1f020"
   },
   "outputs": [
    {
     "data": {
      "text/plain": [
       "(15702, 4)"
      ]
     },
     "execution_count": 8,
     "metadata": {
      "tags": []
     },
     "output_type": "execute_result"
    }
   ],
   "source": [
    "\n",
    "dataset.shape"
   ]
  },
  {
   "cell_type": "markdown",
   "metadata": {
    "colab_type": "text",
    "id": "IHz_RpAm7uaF"
   },
   "source": [
    "total number of rows in our datset 15702  and coloumn is 4"
   ]
  },
  {
   "cell_type": "code",
   "execution_count": 0,
   "metadata": {
    "colab": {
     "base_uri": "https://localhost:8080/",
     "height": 34
    },
    "colab_type": "code",
    "executionInfo": {
     "elapsed": 951,
     "status": "ok",
     "timestamp": 1554873697798,
     "user": {
      "displayName": "ashish saha",
      "photoUrl": "",
      "userId": "18114302892867303288"
     },
     "user_tz": -330
    },
    "id": "cfxdDiLU6LYW",
    "outputId": "1904a6ff-1f99-44b7-db65-626c1ba6862a"
   },
   "outputs": [
    {
     "data": {
      "text/plain": [
       "68"
      ]
     },
     "execution_count": 9,
     "metadata": {
      "tags": []
     },
     "output_type": "execute_result"
    }
   ],
   "source": [
    "duplicateRowsDF = dataset[dataset.duplicated(['category:confidence', 'image_url'])]\n",
    "len(duplicateRowsDF)"
   ]
  },
  {
   "cell_type": "markdown",
   "metadata": {
    "colab_type": "text",
    "id": "8oVgIUu86WFJ"
   },
   "source": [
    "Here we analyse the duplicate link and their category:confidence score and we see that strength of duplicate link and category:confidence is 68. so we have to remove these rows from our dataset."
   ]
  },
  {
   "cell_type": "code",
   "execution_count": 0,
   "metadata": {
    "colab": {},
    "colab_type": "code",
    "id": "vQnMXRSFyzTy"
   },
   "outputs": [],
   "source": [
    "dataset2=dataset.drop_duplicates(subset=['category:confidence','image_url'], keep='first')"
   ]
  },
  {
   "cell_type": "code",
   "execution_count": 0,
   "metadata": {
    "colab": {
     "base_uri": "https://localhost:8080/",
     "height": 34
    },
    "colab_type": "code",
    "executionInfo": {
     "elapsed": 1875,
     "status": "ok",
     "timestamp": 1554873709635,
     "user": {
      "displayName": "ashish saha",
      "photoUrl": "",
      "userId": "18114302892867303288"
     },
     "user_tz": -330
    },
    "id": "iYtrYuRl77lS",
    "outputId": "3e2f91f0-3547-49dd-c329-24264995becf"
   },
   "outputs": [
    {
     "data": {
      "text/plain": [
       "(15634, 4)"
      ]
     },
     "execution_count": 11,
     "metadata": {
      "tags": []
     },
     "output_type": "execute_result"
    }
   ],
   "source": [
    "dataset2.shape"
   ]
  },
  {
   "cell_type": "code",
   "execution_count": 0,
   "metadata": {
    "colab": {},
    "colab_type": "code",
    "id": "Bs4Y3aJ3iAFh"
   },
   "outputs": [],
   "source": [
    "dataset2=dataset2.reset_index()"
   ]
  },
  {
   "cell_type": "markdown",
   "metadata": {
    "colab_type": "text",
    "id": "dGiVfvJ-ygLE"
   },
   "source": [
    "used to reset index\n"
   ]
  },
  {
   "cell_type": "code",
   "execution_count": 0,
   "metadata": {
    "colab": {
     "base_uri": "https://localhost:8080/",
     "height": 204
    },
    "colab_type": "code",
    "executionInfo": {
     "elapsed": 2054,
     "status": "ok",
     "timestamp": 1554873717796,
     "user": {
      "displayName": "ashish saha",
      "photoUrl": "",
      "userId": "18114302892867303288"
     },
     "user_tz": -330
    },
    "id": "sZfyNaq5mmqe",
    "outputId": "c05f5f15-f876-4170-998d-8b9b48756ead"
   },
   "outputs": [
    {
     "data": {
      "text/html": [
       "<div>\n",
       "<style scoped>\n",
       "    .dataframe tbody tr th:only-of-type {\n",
       "        vertical-align: middle;\n",
       "    }\n",
       "\n",
       "    .dataframe tbody tr th {\n",
       "        vertical-align: top;\n",
       "    }\n",
       "\n",
       "    .dataframe thead th {\n",
       "        text-align: right;\n",
       "    }\n",
       "</style>\n",
       "<table border=\"1\" class=\"dataframe\">\n",
       "  <thead>\n",
       "    <tr style=\"text-align: right;\">\n",
       "      <th></th>\n",
       "      <th>index</th>\n",
       "      <th>_unit_id</th>\n",
       "      <th>category</th>\n",
       "      <th>category:confidence</th>\n",
       "      <th>image_url</th>\n",
       "    </tr>\n",
       "  </thead>\n",
       "  <tbody>\n",
       "    <tr>\n",
       "      <th>15629</th>\n",
       "      <td>15695</td>\n",
       "      <td>851567928</td>\n",
       "      <td>plain</td>\n",
       "      <td>0.9232</td>\n",
       "      <td>http://s3-eu-west-1.amazonaws.com/we-attribute...</td>\n",
       "    </tr>\n",
       "    <tr>\n",
       "      <th>15630</th>\n",
       "      <td>15696</td>\n",
       "      <td>851568211</td>\n",
       "      <td>animal</td>\n",
       "      <td>0.7667</td>\n",
       "      <td>http://s3-eu-west-1.amazonaws.com/we-attribute...</td>\n",
       "    </tr>\n",
       "    <tr>\n",
       "      <th>15631</th>\n",
       "      <td>15699</td>\n",
       "      <td>854497512</td>\n",
       "      <td>squares</td>\n",
       "      <td>0.9230</td>\n",
       "      <td>http://s3-eu-west-1.amazonaws.com/we-attribute...</td>\n",
       "    </tr>\n",
       "    <tr>\n",
       "      <th>15632</th>\n",
       "      <td>15700</td>\n",
       "      <td>854497595</td>\n",
       "      <td>tribal</td>\n",
       "      <td>0.5199</td>\n",
       "      <td>http://s3-eu-west-1.amazonaws.com/we-attribute...</td>\n",
       "    </tr>\n",
       "    <tr>\n",
       "      <th>15633</th>\n",
       "      <td>15701</td>\n",
       "      <td>856388654</td>\n",
       "      <td>polka dot</td>\n",
       "      <td>0.9618</td>\n",
       "      <td>http://s3-eu-west-1.amazonaws.com/we-attribute...</td>\n",
       "    </tr>\n",
       "  </tbody>\n",
       "</table>\n",
       "</div>"
      ],
      "text/plain": [
       "       index   _unit_id   category  category:confidence  \\\n",
       "15629  15695  851567928      plain               0.9232   \n",
       "15630  15696  851568211     animal               0.7667   \n",
       "15631  15699  854497512    squares               0.9230   \n",
       "15632  15700  854497595     tribal               0.5199   \n",
       "15633  15701  856388654  polka dot               0.9618   \n",
       "\n",
       "                                               image_url  \n",
       "15629  http://s3-eu-west-1.amazonaws.com/we-attribute...  \n",
       "15630  http://s3-eu-west-1.amazonaws.com/we-attribute...  \n",
       "15631  http://s3-eu-west-1.amazonaws.com/we-attribute...  \n",
       "15632  http://s3-eu-west-1.amazonaws.com/we-attribute...  \n",
       "15633  http://s3-eu-west-1.amazonaws.com/we-attribute...  "
      ]
     },
     "execution_count": 13,
     "metadata": {
      "tags": []
     },
     "output_type": "execute_result"
    }
   ],
   "source": [
    "dataset2.tail()"
   ]
  },
  {
   "cell_type": "markdown",
   "metadata": {
    "colab_type": "text",
    "id": "dwiw1Huy8LsJ"
   },
   "source": [
    "After remove duplicacy in our dataset now length of our dataset is (rows=15634, coloumn=4)"
   ]
  },
  {
   "cell_type": "code",
   "execution_count": 0,
   "metadata": {
    "colab": {},
    "colab_type": "code",
    "id": "vTgkGxz5zD-j"
   },
   "outputs": [],
   "source": [
    "dataset2=dataset2.drop('index', axis=1)"
   ]
  },
  {
   "cell_type": "code",
   "execution_count": 0,
   "metadata": {
    "colab": {
     "base_uri": "https://localhost:8080/",
     "height": 204
    },
    "colab_type": "code",
    "executionInfo": {
     "elapsed": 2299,
     "status": "ok",
     "timestamp": 1554873732791,
     "user": {
      "displayName": "ashish saha",
      "photoUrl": "",
      "userId": "18114302892867303288"
     },
     "user_tz": -330
    },
    "id": "DoF1y-XcrKSy",
    "outputId": "9d6a3a6f-407e-4204-c8ea-3fd201e70488"
   },
   "outputs": [
    {
     "data": {
      "text/html": [
       "<div>\n",
       "<style scoped>\n",
       "    .dataframe tbody tr th:only-of-type {\n",
       "        vertical-align: middle;\n",
       "    }\n",
       "\n",
       "    .dataframe tbody tr th {\n",
       "        vertical-align: top;\n",
       "    }\n",
       "\n",
       "    .dataframe thead th {\n",
       "        text-align: right;\n",
       "    }\n",
       "</style>\n",
       "<table border=\"1\" class=\"dataframe\">\n",
       "  <thead>\n",
       "    <tr style=\"text-align: right;\">\n",
       "      <th></th>\n",
       "      <th>_unit_id</th>\n",
       "      <th>category</th>\n",
       "      <th>category:confidence</th>\n",
       "      <th>image_url</th>\n",
       "    </tr>\n",
       "  </thead>\n",
       "  <tbody>\n",
       "    <tr>\n",
       "      <th>15629</th>\n",
       "      <td>851567928</td>\n",
       "      <td>plain</td>\n",
       "      <td>0.9232</td>\n",
       "      <td>http://s3-eu-west-1.amazonaws.com/we-attribute...</td>\n",
       "    </tr>\n",
       "    <tr>\n",
       "      <th>15630</th>\n",
       "      <td>851568211</td>\n",
       "      <td>animal</td>\n",
       "      <td>0.7667</td>\n",
       "      <td>http://s3-eu-west-1.amazonaws.com/we-attribute...</td>\n",
       "    </tr>\n",
       "    <tr>\n",
       "      <th>15631</th>\n",
       "      <td>854497512</td>\n",
       "      <td>squares</td>\n",
       "      <td>0.9230</td>\n",
       "      <td>http://s3-eu-west-1.amazonaws.com/we-attribute...</td>\n",
       "    </tr>\n",
       "    <tr>\n",
       "      <th>15632</th>\n",
       "      <td>854497595</td>\n",
       "      <td>tribal</td>\n",
       "      <td>0.5199</td>\n",
       "      <td>http://s3-eu-west-1.amazonaws.com/we-attribute...</td>\n",
       "    </tr>\n",
       "    <tr>\n",
       "      <th>15633</th>\n",
       "      <td>856388654</td>\n",
       "      <td>polka dot</td>\n",
       "      <td>0.9618</td>\n",
       "      <td>http://s3-eu-west-1.amazonaws.com/we-attribute...</td>\n",
       "    </tr>\n",
       "  </tbody>\n",
       "</table>\n",
       "</div>"
      ],
      "text/plain": [
       "        _unit_id   category  category:confidence  \\\n",
       "15629  851567928      plain               0.9232   \n",
       "15630  851568211     animal               0.7667   \n",
       "15631  854497512    squares               0.9230   \n",
       "15632  854497595     tribal               0.5199   \n",
       "15633  856388654  polka dot               0.9618   \n",
       "\n",
       "                                               image_url  \n",
       "15629  http://s3-eu-west-1.amazonaws.com/we-attribute...  \n",
       "15630  http://s3-eu-west-1.amazonaws.com/we-attribute...  \n",
       "15631  http://s3-eu-west-1.amazonaws.com/we-attribute...  \n",
       "15632  http://s3-eu-west-1.amazonaws.com/we-attribute...  \n",
       "15633  http://s3-eu-west-1.amazonaws.com/we-attribute...  "
      ]
     },
     "execution_count": 15,
     "metadata": {
      "tags": []
     },
     "output_type": "execute_result"
    }
   ],
   "source": [
    "dataset2.tail()"
   ]
  },
  {
   "cell_type": "code",
   "execution_count": 0,
   "metadata": {
    "colab": {},
    "colab_type": "code",
    "id": "wgRMJ78zq9R2"
   },
   "outputs": [],
   "source": [
    "y=dataset2.iloc[:,3].values"
   ]
  },
  {
   "cell_type": "code",
   "execution_count": 0,
   "metadata": {
    "colab": {
     "base_uri": "https://localhost:8080/",
     "height": 34
    },
    "colab_type": "code",
    "executionInfo": {
     "elapsed": 1264,
     "status": "ok",
     "timestamp": 1554873739420,
     "user": {
      "displayName": "ashish saha",
      "photoUrl": "",
      "userId": "18114302892867303288"
     },
     "user_tz": -330
    },
    "id": "q8lRNWZs9WyM",
    "outputId": "f3f0603a-a0e3-454a-e2d8-f8b9709f852d"
   },
   "outputs": [
    {
     "name": "stdout",
     "output_type": "stream",
     "text": [
      "15634\n"
     ]
    }
   ],
   "source": [
    "print(len(y))"
   ]
  },
  {
   "cell_type": "markdown",
   "metadata": {
    "colab_type": "text",
    "id": "0-rLmItZyowu"
   },
   "source": [
    "length of our total link from which we scrape images"
   ]
  },
  {
   "cell_type": "code",
   "execution_count": 0,
   "metadata": {
    "colab": {
     "base_uri": "https://localhost:8080/",
     "height": 224
    },
    "colab_type": "code",
    "executionInfo": {
     "elapsed": 153869,
     "status": "ok",
     "timestamp": 1554873479011,
     "user": {
      "displayName": "ashish saha",
      "photoUrl": "",
      "userId": "18114302892867303288"
     },
     "user_tz": -330
    },
    "id": "liKkOs-K-DdY",
    "outputId": "19f92d13-2883-4c04-d03e-a88a05bc55b4"
   },
   "outputs": [
    {
     "name": "stdout",
     "output_type": "stream",
     "text": [
      "E: Package 'python-software-properties' has no installation candidate\n",
      "Selecting previously unselected package google-drive-ocamlfuse.\n",
      "(Reading database ... 131304 files and directories currently installed.)\n",
      "Preparing to unpack .../google-drive-ocamlfuse_0.7.3-0ubuntu1~ubuntu18.04.1_amd64.deb ...\n",
      "Unpacking google-drive-ocamlfuse (0.7.3-0ubuntu1~ubuntu18.04.1) ...\n",
      "Setting up google-drive-ocamlfuse (0.7.3-0ubuntu1~ubuntu18.04.1) ...\n",
      "Processing triggers for man-db (2.8.3-2ubuntu0.1) ...\n",
      "Please, open the following URL in a web browser: https://accounts.google.com/o/oauth2/auth?client_id=32555940559.apps.googleusercontent.com&redirect_uri=urn%3Aietf%3Awg%3Aoauth%3A2.0%3Aoob&scope=https%3A%2F%2Fwww.googleapis.com%2Fauth%2Fdrive&response_type=code&access_type=offline&approval_prompt=force\n",
      "··········\n",
      "Please, open the following URL in a web browser: https://accounts.google.com/o/oauth2/auth?client_id=32555940559.apps.googleusercontent.com&redirect_uri=urn%3Aietf%3Awg%3Aoauth%3A2.0%3Aoob&scope=https%3A%2F%2Fwww.googleapis.com%2Fauth%2Fdrive&response_type=code&access_type=offline&approval_prompt=force\n",
      "Please enter the verification code: Access token retrieved correctly.\n"
     ]
    }
   ],
   "source": [
    "!apt-get install -y -qq software-properties-common python-software-properties module-init-tools\n",
    "!add-apt-repository -y ppa:alessandro-strada/ppa 2>&1 > /dev/null\n",
    "!apt-get update -qq 2>&1 > /dev/null\n",
    "!apt-get -y install -qq google-drive-ocamlfuse fuse\n",
    "\n",
    "from google.colab import auth\n",
    "auth.authenticate_user()\n",
    "from oauth2client.client import GoogleCredentials\n",
    "creds = GoogleCredentials.get_application_default()\n",
    "import getpass\n",
    "!google-drive-ocamlfuse -headless -id={creds.client_id} -secret={creds.client_secret} < /dev/null 2>&1 | grep URL\n",
    "vcode = getpass.getpass()\n",
    "!echo {vcode} | google-drive-ocamlfuse -headless -id={creds.client_id} -secret={creds.client_secret}"
   ]
  },
  {
   "cell_type": "markdown",
   "metadata": {
    "colab_type": "text",
    "id": "GZfjHLyZy1TV"
   },
   "source": [
    "to make directory on our google drive"
   ]
  },
  {
   "cell_type": "code",
   "execution_count": 0,
   "metadata": {
    "colab": {},
    "colab_type": "code",
    "id": "apmRiBHs-KG4"
   },
   "outputs": [],
   "source": [
    "!mkdir -p colabData\n",
    "!google-drive-ocamlfuse colabData"
   ]
  },
  {
   "cell_type": "markdown",
   "metadata": {
    "colab_type": "text",
    "id": "uqqaXEHuy_Hu"
   },
   "source": [
    "total number of files in our colabData directory in our drive"
   ]
  },
  {
   "cell_type": "code",
   "execution_count": 0,
   "metadata": {
    "colab": {
     "base_uri": "https://localhost:8080/",
     "height": 867
    },
    "colab_type": "code",
    "executionInfo": {
     "elapsed": 7208,
     "status": "ok",
     "timestamp": 1554743301619,
     "user": {
      "displayName": "ashish saha",
      "photoUrl": "",
      "userId": "18114302892867303288"
     },
     "user_tz": -330
    },
    "id": "pqwUAFeQ-Sdt",
    "outputId": "4e6af215-ff99-4226-e65c-ecc25ca53c2d"
   },
   "outputs": [
    {
     "name": "stdout",
     "output_type": "stream",
     "text": [
      " aptrom.jpg\n",
      "'AshishSaha_InternshalaResume-16 (ab5ea49d).pdf'\n",
      "'AshishSaha_InternshalaResume-16 (b09298e6).pdf'\n",
      "'AshishSaha_InternshalaResume-16 (b3fa884b).pdf'\n",
      " AshishSaha_InternshalaResume-16.pdf\n",
      " AshishSaha_InternshalaResume-5.pdf\n",
      " AshishSaha_InternshalaResume.pdf\n",
      " assignment.zip\n",
      " \u001b[0m\u001b[01;34mclouderizer\u001b[0m/\n",
      "\u001b[01;34m'Colab Notebooks'\u001b[0m/\n",
      "'Dup(01)IMG_20141104_103348.jpg'\n",
      " EAadhaar_715553633346_16082017081428_016492.pdf\n",
      "'Emailing AshishSaha_InternshalaResume-7.pdf'\n",
      "'Emailing DOC-20170927-WA0003.pdf'\n",
      "'Emailing INDEX mt grp1-1.pdf'\n",
      "'Getting started'\n",
      " googlestockprice_regression.py\n",
      " \u001b[01;34mGreendeck\u001b[0m/\n",
      " IMG-20170109-WA0002.jpg\n",
      " IMG-20170109-WA0003.jpg\n",
      " IMG-20170109-WA0004.jpg\n",
      " IMG-20170109-WA0005.jpg\n",
      " IMG_20170110_093832.jpg\n",
      " IMG_20170110_093858.jpg\n",
      " IMG_20170110_093923.jpg\n",
      " IMG_20170110_094130.jpg\n",
      " IMG_20170110_105512.jpg\n",
      " IMG_20171031_123710.jpg\n",
      " IMG_20171031_123815.jpg\n",
      " IMG_20171031_123821.jpg\n",
      " IMG-20171219-WA0026.jpg\n",
      " IMG_20180317_123001.jpg\n",
      " IMG_20180317_123015.jpg\n",
      " IMG_20180327_172220.jpg\n",
      " IMG_20180327_172222.jpg\n",
      " IMG_20180330_130431.jpg\n",
      " IMG_20180330_130441.jpg\n",
      " IMG_20180818_074646.jpg\n",
      " IMG_20180818_074651.jpg\n",
      " IMG-ashish-WA0002.jpg\n",
      "'latest resume.pdf'\n",
      "'New Doc 2018-09-12 17.37.16.pdf'\n",
      " News_Category_Dataset.json\n",
      " null.txt\n",
      " nw.py\n",
      " P_20151010_094357.jpg\n",
      " P_20151010_094711.jpg\n",
      " P_20151010_094822.jpg\n",
      " train.csv.ipynb\n",
      "'Untitled presentation.pdf'\n"
     ]
    }
   ],
   "source": [
    "ls colabData"
   ]
  },
  {
   "cell_type": "code",
   "execution_count": 0,
   "metadata": {
    "colab": {
     "base_uri": "https://localhost:8080/",
     "height": 11033
    },
    "colab_type": "code",
    "executionInfo": {
     "elapsed": 2272857,
     "status": "ok",
     "timestamp": 1554807169489,
     "user": {
      "displayName": "ashish saha",
      "photoUrl": "",
      "userId": "18114302892867303288"
     },
     "user_tz": -330
    },
    "id": "aEcHmS9c9Jnt",
    "outputId": "bcf1a2ce-acf2-4481-a0b3-f71ca307d0ea"
   },
   "outputs": [
    {
     "name": "stdout",
     "output_type": "stream",
     "text": [
      "14986\n",
      "14987\n",
      "14988\n",
      "14989\n",
      "14990\n",
      "14991\n",
      "14992\n",
      "14993\n",
      "14994\n",
      "14995\n",
      "14996\n",
      "14997\n",
      "14998\n",
      "14999\n",
      "15000\n",
      "15001\n",
      "15002\n",
      "15003\n",
      "15004\n",
      "15005\n",
      "15006\n",
      "15007\n",
      "15008\n",
      "15009\n",
      "15010\n",
      "15011\n",
      "15012\n",
      "15013\n",
      "15014\n",
      "15015\n",
      "15016\n",
      "15017\n",
      "15018\n",
      "15019\n",
      "15020\n",
      "15021\n",
      "15022\n",
      "15023\n",
      "15024\n",
      "15025\n",
      "15026\n",
      "15027\n",
      "15028\n",
      "15029\n",
      "15030\n",
      "15031\n",
      "15032\n",
      "15033\n",
      "15034\n",
      "15035\n",
      "15036\n",
      "15037\n",
      "15038\n",
      "15039\n",
      "15040\n",
      "15041\n",
      "15042\n",
      "15043\n",
      "15044\n",
      "15045\n",
      "15046\n",
      "15047\n",
      "15048\n",
      "15049\n",
      "15050\n",
      "15051\n",
      "15052\n",
      "15053\n",
      "15054\n",
      "15055\n",
      "15056\n",
      "15057\n",
      "15058\n",
      "15059\n",
      "15060\n",
      "15061\n",
      "15062\n",
      "15063\n",
      "15064\n",
      "15065\n",
      "15066\n",
      "15067\n",
      "15068\n",
      "15069\n",
      "15070\n",
      "15071\n",
      "15072\n",
      "15073\n",
      "15074\n",
      "15075\n",
      "15076\n",
      "15077\n",
      "15078\n",
      "15079\n",
      "15080\n",
      "15081\n",
      "15082\n",
      "15083\n",
      "15084\n",
      "15085\n",
      "15086\n",
      "15087\n",
      "15088\n",
      "15089\n",
      "15090\n",
      "15091\n",
      "15092\n",
      "15093\n",
      "15094\n",
      "15095\n",
      "15096\n",
      "15097\n",
      "15098\n",
      "15099\n",
      "15100\n",
      "15101\n",
      "15102\n",
      "15103\n",
      "15104\n",
      "15105\n",
      "15106\n",
      "15107\n",
      "15108\n",
      "15109\n",
      "15110\n",
      "15111\n",
      "15112\n",
      "15113\n",
      "15114\n",
      "15115\n",
      "15116\n",
      "15117\n",
      "15118\n",
      "15119\n",
      "15120\n",
      "15121\n",
      "15122\n",
      "15123\n",
      "15124\n",
      "15125\n",
      "15126\n",
      "15127\n",
      "15128\n",
      "15129\n",
      "15130\n",
      "15131\n",
      "15132\n",
      "15133\n",
      "15134\n",
      "15135\n",
      "15136\n",
      "15137\n",
      "15138\n",
      "15139\n",
      "15140\n",
      "15141\n",
      "15142\n",
      "15143\n",
      "15144\n",
      "15145\n",
      "15146\n",
      "15147\n",
      "15148\n",
      "15149\n",
      "15150\n",
      "15151\n",
      "15152\n",
      "15153\n",
      "15154\n",
      "15155\n",
      "15156\n",
      "15157\n",
      "15158\n",
      "15159\n",
      "15160\n",
      "15161\n",
      "15162\n",
      "15163\n",
      "15164\n",
      "15165\n",
      "15166\n",
      "15167\n",
      "15168\n",
      "15169\n",
      "15170\n",
      "15171\n",
      "15172\n",
      "15173\n",
      "15174\n",
      "15175\n",
      "15176\n",
      "15177\n",
      "15178\n",
      "15179\n",
      "15180\n",
      "15181\n",
      "15182\n",
      "15183\n",
      "15184\n",
      "15185\n",
      "15186\n",
      "15187\n",
      "15188\n",
      "15189\n",
      "15190\n",
      "15191\n",
      "15192\n",
      "15193\n",
      "15194\n",
      "15195\n",
      "15196\n",
      "15197\n",
      "15198\n",
      "15199\n",
      "15200\n",
      "15201\n",
      "15202\n",
      "15203\n",
      "15204\n",
      "15205\n",
      "15206\n",
      "15207\n",
      "15208\n",
      "15209\n",
      "15210\n",
      "15211\n",
      "15212\n",
      "15213\n",
      "15214\n",
      "15215\n",
      "15216\n",
      "15217\n",
      "15218\n",
      "15219\n",
      "15220\n",
      "15221\n",
      "15222\n",
      "15223\n",
      "15224\n",
      "15225\n",
      "15226\n",
      "15227\n",
      "15228\n",
      "15229\n",
      "15230\n",
      "15231\n",
      "15232\n",
      "15233\n",
      "15234\n",
      "15235\n",
      "15236\n",
      "15237\n",
      "15238\n",
      "15239\n",
      "15240\n",
      "15241\n",
      "15242\n",
      "15243\n",
      "15244\n",
      "15245\n",
      "15246\n",
      "15247\n",
      "15248\n",
      "15249\n",
      "15250\n",
      "15251\n",
      "15252\n",
      "15253\n",
      "15254\n",
      "15255\n",
      "15256\n",
      "15257\n",
      "15258\n",
      "15259\n",
      "15260\n",
      "15261\n",
      "15262\n",
      "15263\n",
      "15264\n",
      "15265\n",
      "15266\n",
      "15267\n",
      "15268\n",
      "15269\n",
      "15270\n",
      "15271\n",
      "15272\n",
      "15273\n",
      "15274\n",
      "15275\n",
      "15276\n",
      "15277\n",
      "15278\n",
      "15279\n",
      "15280\n",
      "15281\n",
      "15282\n",
      "15283\n",
      "15284\n",
      "15285\n",
      "15286\n",
      "15287\n",
      "15288\n",
      "15289\n",
      "15290\n",
      "15291\n",
      "15292\n",
      "15293\n",
      "15294\n",
      "15295\n",
      "15296\n",
      "15297\n",
      "15298\n",
      "15299\n",
      "15300\n",
      "15301\n",
      "15302\n",
      "15303\n",
      "15304\n",
      "15305\n",
      "15306\n",
      "15307\n",
      "15308\n",
      "15309\n",
      "15310\n",
      "15311\n",
      "15312\n",
      "15313\n",
      "15314\n",
      "15315\n",
      "15316\n",
      "15317\n",
      "15318\n",
      "15319\n",
      "15320\n",
      "15321\n",
      "15322\n",
      "15323\n",
      "15324\n",
      "15325\n",
      "15326\n",
      "15327\n",
      "15328\n",
      "15329\n",
      "15330\n",
      "15331\n",
      "15332\n",
      "15333\n",
      "15334\n",
      "15335\n",
      "15336\n",
      "15337\n",
      "15338\n",
      "15339\n",
      "15340\n",
      "15341\n",
      "15342\n",
      "15343\n",
      "15344\n",
      "15345\n",
      "15346\n",
      "15347\n",
      "15348\n",
      "15349\n",
      "15350\n",
      "15351\n",
      "15352\n",
      "15353\n",
      "15354\n",
      "15355\n",
      "15356\n",
      "15357\n",
      "15358\n",
      "15359\n",
      "15360\n",
      "15361\n",
      "15362\n",
      "15363\n",
      "15364\n",
      "15365\n",
      "15366\n",
      "15367\n",
      "15368\n",
      "15369\n",
      "15370\n",
      "15371\n",
      "15372\n",
      "15373\n",
      "15374\n",
      "15375\n",
      "15376\n",
      "15377\n",
      "15378\n",
      "15379\n",
      "15380\n",
      "15381\n",
      "15382\n",
      "15383\n",
      "15384\n",
      "15385\n",
      "15386\n",
      "15387\n",
      "15388\n",
      "15389\n",
      "15390\n",
      "15391\n",
      "15392\n",
      "15393\n",
      "15394\n",
      "15395\n",
      "15396\n",
      "15397\n",
      "15398\n",
      "15399\n",
      "15400\n",
      "15401\n",
      "15402\n",
      "15403\n",
      "15404\n",
      "15405\n",
      "15406\n",
      "15407\n",
      "15408\n",
      "15409\n",
      "15410\n",
      "15411\n",
      "15412\n",
      "15413\n",
      "15414\n",
      "15415\n",
      "15416\n",
      "15417\n",
      "15418\n",
      "15419\n",
      "15420\n",
      "15421\n",
      "15422\n",
      "15423\n",
      "15424\n",
      "15425\n",
      "15426\n",
      "15427\n",
      "15428\n",
      "15429\n",
      "15430\n",
      "15431\n",
      "15432\n",
      "15433\n",
      "15434\n",
      "15435\n",
      "15436\n",
      "15437\n",
      "15438\n",
      "15439\n",
      "15440\n",
      "15441\n",
      "15442\n",
      "15443\n",
      "15444\n",
      "15445\n",
      "15446\n",
      "15447\n",
      "15448\n",
      "15449\n",
      "15450\n",
      "15451\n",
      "15452\n",
      "15453\n",
      "15454\n",
      "15455\n",
      "15456\n",
      "15457\n",
      "15458\n",
      "15459\n",
      "15460\n",
      "15461\n",
      "15462\n",
      "15463\n",
      "15464\n",
      "15465\n",
      "15466\n",
      "15467\n",
      "15468\n",
      "15469\n",
      "15470\n",
      "15471\n",
      "15472\n",
      "15473\n",
      "15474\n",
      "15475\n",
      "15476\n",
      "15477\n",
      "15478\n",
      "15479\n",
      "15480\n",
      "15481\n",
      "15482\n",
      "15483\n",
      "15484\n",
      "15485\n",
      "15486\n",
      "15487\n",
      "15488\n",
      "15489\n",
      "15490\n",
      "15491\n",
      "15492\n",
      "15493\n",
      "15494\n",
      "15495\n",
      "15496\n",
      "15497\n",
      "15498\n",
      "15499\n",
      "15500\n",
      "15501\n",
      "15502\n",
      "15503\n",
      "15504\n",
      "15505\n",
      "15506\n",
      "15507\n",
      "15508\n",
      "15509\n",
      "15510\n",
      "15511\n",
      "15512\n",
      "15513\n",
      "15514\n",
      "15515\n",
      "15516\n",
      "15517\n",
      "15518\n",
      "15519\n",
      "15520\n",
      "15521\n",
      "15522\n",
      "15523\n",
      "15524\n",
      "15525\n",
      "15526\n",
      "15527\n",
      "15528\n",
      "15529\n",
      "15530\n",
      "15531\n",
      "15532\n",
      "15533\n",
      "15534\n",
      "15535\n",
      "15536\n",
      "15537\n",
      "15538\n",
      "15539\n",
      "15540\n",
      "15541\n",
      "15542\n",
      "15543\n",
      "15544\n",
      "15545\n",
      "15546\n",
      "15547\n",
      "15548\n",
      "15549\n",
      "15550\n",
      "15551\n",
      "15552\n",
      "15553\n",
      "15554\n",
      "15555\n",
      "15556\n",
      "15557\n",
      "15558\n",
      "15559\n",
      "15560\n",
      "15561\n",
      "15562\n",
      "15563\n",
      "15564\n",
      "15565\n",
      "15566\n",
      "15567\n",
      "15568\n",
      "15569\n",
      "15570\n",
      "15571\n",
      "15572\n",
      "15573\n",
      "15574\n",
      "15575\n",
      "15576\n",
      "15577\n",
      "15578\n",
      "15579\n",
      "15580\n",
      "15581\n",
      "15582\n",
      "15583\n",
      "15584\n",
      "15585\n",
      "15586\n",
      "15587\n",
      "15588\n",
      "15589\n",
      "15590\n",
      "15591\n",
      "15592\n",
      "15593\n",
      "15594\n",
      "15595\n",
      "15596\n",
      "15597\n",
      "15598\n",
      "15599\n",
      "15600\n",
      "15601\n",
      "15602\n",
      "15603\n",
      "15604\n",
      "15605\n",
      "15606\n",
      "15607\n",
      "15608\n",
      "15609\n",
      "15610\n",
      "15611\n",
      "15612\n",
      "15613\n",
      "15614\n",
      "15615\n",
      "15616\n",
      "15617\n",
      "15618\n",
      "15619\n",
      "15620\n",
      "15621\n",
      "15622\n",
      "15623\n",
      "15624\n",
      "15625\n",
      "15626\n",
      "15627\n",
      "15628\n",
      "15629\n",
      "15630\n",
      "15631\n",
      "15632\n",
      "15633\n"
     ]
    }
   ],
   "source": [
    "#For fetching Dataset from link and stored in google drive\n",
    "import urllib\n",
    "import urllib.request\n",
    "count=14986\n",
    "for i in y[14986:]:\n",
    "    print(count)\n",
    "    resource = urllib.request.urlopen(i)\n",
    "    url='colabData/Greendeck/{0}.jpg'.format(count)\n",
    "    output=open(url,\"wb\")\n",
    "    output.write(resource.read())\n",
    "    output.close()\n",
    "    count=count+1"
   ]
  },
  {
   "cell_type": "markdown",
   "metadata": {
    "colab_type": "text",
    "id": "JAOvx8OdzHph"
   },
   "source": [
    "this is the step of scraping our images from link"
   ]
  },
  {
   "cell_type": "code",
   "execution_count": 0,
   "metadata": {
    "colab": {},
    "colab_type": "code",
    "id": "uFRosyMT1qaz"
   },
   "outputs": [],
   "source": [
    "image_number=[]\n",
    "for i in range(0,15634):\n",
    "  image_number.append(str(i)+'.jpg')\n",
    "\n",
    "  "
   ]
  },
  {
   "cell_type": "markdown",
   "metadata": {
    "colab_type": "text",
    "id": "y0bJ9tYozSwP"
   },
   "source": [
    "here we make a coloumn of that we have number in our image id, in our image we have number from 1 to 15635, so we  make a loop from 1 to 13634 and convert in to dataframe and append in our dataset"
   ]
  },
  {
   "cell_type": "code",
   "execution_count": 0,
   "metadata": {
    "colab": {},
    "colab_type": "code",
    "id": "6_h3Z7HtuhHy"
   },
   "outputs": [],
   "source": [
    "image_number=pd.DataFrame(image_number)"
   ]
  },
  {
   "cell_type": "code",
   "execution_count": 0,
   "metadata": {
    "colab": {},
    "colab_type": "code",
    "id": "TGET9-uY2LMd"
   },
   "outputs": [],
   "source": [
    "dataset2=pd.concat([dataset2,image_number], axis=1)"
   ]
  },
  {
   "cell_type": "code",
   "execution_count": 0,
   "metadata": {
    "colab": {
     "base_uri": "https://localhost:8080/",
     "height": 204
    },
    "colab_type": "code",
    "executionInfo": {
     "elapsed": 1598,
     "status": "ok",
     "timestamp": 1554860688149,
     "user": {
      "displayName": "ashish saha",
      "photoUrl": "",
      "userId": "18114302892867303288"
     },
     "user_tz": -330
    },
    "id": "LtnV6XZUfVI3",
    "outputId": "fc2da89d-e614-4d38-f34b-be4ab8c85215"
   },
   "outputs": [
    {
     "data": {
      "text/html": [
       "<div>\n",
       "<style scoped>\n",
       "    .dataframe tbody tr th:only-of-type {\n",
       "        vertical-align: middle;\n",
       "    }\n",
       "\n",
       "    .dataframe tbody tr th {\n",
       "        vertical-align: top;\n",
       "    }\n",
       "\n",
       "    .dataframe thead th {\n",
       "        text-align: right;\n",
       "    }\n",
       "</style>\n",
       "<table border=\"1\" class=\"dataframe\">\n",
       "  <thead>\n",
       "    <tr style=\"text-align: right;\">\n",
       "      <th></th>\n",
       "      <th>_unit_id</th>\n",
       "      <th>category</th>\n",
       "      <th>category:confidence</th>\n",
       "      <th>image_url</th>\n",
       "      <th>0</th>\n",
       "    </tr>\n",
       "  </thead>\n",
       "  <tbody>\n",
       "    <tr>\n",
       "      <th>15629</th>\n",
       "      <td>851567928</td>\n",
       "      <td>plain</td>\n",
       "      <td>0.9232</td>\n",
       "      <td>http://s3-eu-west-1.amazonaws.com/we-attribute...</td>\n",
       "      <td>15629.jpg</td>\n",
       "    </tr>\n",
       "    <tr>\n",
       "      <th>15630</th>\n",
       "      <td>851568211</td>\n",
       "      <td>animal</td>\n",
       "      <td>0.7667</td>\n",
       "      <td>http://s3-eu-west-1.amazonaws.com/we-attribute...</td>\n",
       "      <td>15630.jpg</td>\n",
       "    </tr>\n",
       "    <tr>\n",
       "      <th>15631</th>\n",
       "      <td>854497512</td>\n",
       "      <td>squares</td>\n",
       "      <td>0.9230</td>\n",
       "      <td>http://s3-eu-west-1.amazonaws.com/we-attribute...</td>\n",
       "      <td>15631.jpg</td>\n",
       "    </tr>\n",
       "    <tr>\n",
       "      <th>15632</th>\n",
       "      <td>854497595</td>\n",
       "      <td>tribal</td>\n",
       "      <td>0.5199</td>\n",
       "      <td>http://s3-eu-west-1.amazonaws.com/we-attribute...</td>\n",
       "      <td>15632.jpg</td>\n",
       "    </tr>\n",
       "    <tr>\n",
       "      <th>15633</th>\n",
       "      <td>856388654</td>\n",
       "      <td>polka dot</td>\n",
       "      <td>0.9618</td>\n",
       "      <td>http://s3-eu-west-1.amazonaws.com/we-attribute...</td>\n",
       "      <td>15633.jpg</td>\n",
       "    </tr>\n",
       "  </tbody>\n",
       "</table>\n",
       "</div>"
      ],
      "text/plain": [
       "        _unit_id   category  category:confidence  \\\n",
       "15629  851567928      plain               0.9232   \n",
       "15630  851568211     animal               0.7667   \n",
       "15631  854497512    squares               0.9230   \n",
       "15632  854497595     tribal               0.5199   \n",
       "15633  856388654  polka dot               0.9618   \n",
       "\n",
       "                                               image_url          0  \n",
       "15629  http://s3-eu-west-1.amazonaws.com/we-attribute...  15629.jpg  \n",
       "15630  http://s3-eu-west-1.amazonaws.com/we-attribute...  15630.jpg  \n",
       "15631  http://s3-eu-west-1.amazonaws.com/we-attribute...  15631.jpg  \n",
       "15632  http://s3-eu-west-1.amazonaws.com/we-attribute...  15632.jpg  \n",
       "15633  http://s3-eu-west-1.amazonaws.com/we-attribute...  15633.jpg  "
      ]
     },
     "execution_count": 22,
     "metadata": {
      "tags": []
     },
     "output_type": "execute_result"
    }
   ],
   "source": [
    "dataset2.tail()\n"
   ]
  },
  {
   "cell_type": "code",
   "execution_count": 0,
   "metadata": {
    "colab": {},
    "colab_type": "code",
    "id": "as-ihgUNomj3"
   },
   "outputs": [],
   "source": []
  },
  {
   "cell_type": "code",
   "execution_count": 0,
   "metadata": {
    "colab": {},
    "colab_type": "code",
    "id": "H4ohBZdWrwnk"
   },
   "outputs": [],
   "source": [
    "dataset2=dataset2.rename(columns={0:'image_number'})"
   ]
  },
  {
   "cell_type": "markdown",
   "metadata": {
    "colab_type": "text",
    "id": "3ysblXPf1pUB"
   },
   "source": [
    "here we do renaming the coloumn"
   ]
  },
  {
   "cell_type": "code",
   "execution_count": 0,
   "metadata": {
    "colab": {
     "base_uri": "https://localhost:8080/",
     "height": 204
    },
    "colab_type": "code",
    "executionInfo": {
     "elapsed": 1140,
     "status": "ok",
     "timestamp": 1554873800591,
     "user": {
      "displayName": "ashish saha",
      "photoUrl": "",
      "userId": "18114302892867303288"
     },
     "user_tz": -330
    },
    "id": "Vpdr-ggNsPmf",
    "outputId": "1382f990-3d8a-4932-e9c0-f81cd71a5bf4"
   },
   "outputs": [
    {
     "data": {
      "text/html": [
       "<div>\n",
       "<style scoped>\n",
       "    .dataframe tbody tr th:only-of-type {\n",
       "        vertical-align: middle;\n",
       "    }\n",
       "\n",
       "    .dataframe tbody tr th {\n",
       "        vertical-align: top;\n",
       "    }\n",
       "\n",
       "    .dataframe thead th {\n",
       "        text-align: right;\n",
       "    }\n",
       "</style>\n",
       "<table border=\"1\" class=\"dataframe\">\n",
       "  <thead>\n",
       "    <tr style=\"text-align: right;\">\n",
       "      <th></th>\n",
       "      <th>_unit_id</th>\n",
       "      <th>category</th>\n",
       "      <th>category:confidence</th>\n",
       "      <th>image_url</th>\n",
       "      <th>image_number</th>\n",
       "    </tr>\n",
       "  </thead>\n",
       "  <tbody>\n",
       "    <tr>\n",
       "      <th>0</th>\n",
       "      <td>851505458</td>\n",
       "      <td>ikat</td>\n",
       "      <td>0.3487</td>\n",
       "      <td>http://s3-eu-west-1.amazonaws.com/we-attribute...</td>\n",
       "      <td>0.jpg</td>\n",
       "    </tr>\n",
       "    <tr>\n",
       "      <th>1</th>\n",
       "      <td>851505459</td>\n",
       "      <td>plain</td>\n",
       "      <td>1.0000</td>\n",
       "      <td>http://s3-eu-west-1.amazonaws.com/we-attribute...</td>\n",
       "      <td>1.jpg</td>\n",
       "    </tr>\n",
       "    <tr>\n",
       "      <th>2</th>\n",
       "      <td>851505460</td>\n",
       "      <td>polka dot</td>\n",
       "      <td>0.6709</td>\n",
       "      <td>http://s3-eu-west-1.amazonaws.com/we-attribute...</td>\n",
       "      <td>2.jpg</td>\n",
       "    </tr>\n",
       "    <tr>\n",
       "      <th>3</th>\n",
       "      <td>851505461</td>\n",
       "      <td>plain</td>\n",
       "      <td>1.0000</td>\n",
       "      <td>http://s3-eu-west-1.amazonaws.com/we-attribute...</td>\n",
       "      <td>3.jpg</td>\n",
       "    </tr>\n",
       "    <tr>\n",
       "      <th>4</th>\n",
       "      <td>851505462</td>\n",
       "      <td>geometry</td>\n",
       "      <td>0.7035</td>\n",
       "      <td>http://s3-eu-west-1.amazonaws.com/we-attribute...</td>\n",
       "      <td>4.jpg</td>\n",
       "    </tr>\n",
       "  </tbody>\n",
       "</table>\n",
       "</div>"
      ],
      "text/plain": [
       "    _unit_id   category  category:confidence  \\\n",
       "0  851505458       ikat               0.3487   \n",
       "1  851505459      plain               1.0000   \n",
       "2  851505460  polka dot               0.6709   \n",
       "3  851505461      plain               1.0000   \n",
       "4  851505462   geometry               0.7035   \n",
       "\n",
       "                                           image_url image_number  \n",
       "0  http://s3-eu-west-1.amazonaws.com/we-attribute...        0.jpg  \n",
       "1  http://s3-eu-west-1.amazonaws.com/we-attribute...        1.jpg  \n",
       "2  http://s3-eu-west-1.amazonaws.com/we-attribute...        2.jpg  \n",
       "3  http://s3-eu-west-1.amazonaws.com/we-attribute...        3.jpg  \n",
       "4  http://s3-eu-west-1.amazonaws.com/we-attribute...        4.jpg  "
      ]
     },
     "execution_count": 23,
     "metadata": {
      "tags": []
     },
     "output_type": "execute_result"
    }
   ],
   "source": [
    "dataset2.head()"
   ]
  },
  {
   "cell_type": "code",
   "execution_count": 0,
   "metadata": {
    "colab": {},
    "colab_type": "code",
    "id": "UqdcIeXe3isI"
   },
   "outputs": [],
   "source": [
    "category=dataset2.iloc[:,1].values\n"
   ]
  },
  {
   "cell_type": "code",
   "execution_count": 0,
   "metadata": {
    "colab": {},
    "colab_type": "code",
    "id": "sXOQM-D-4GDZ"
   },
   "outputs": [],
   "source": [
    "dummy_categories=pd.get_dummies(category)"
   ]
  },
  {
   "cell_type": "markdown",
   "metadata": {
    "colab_type": "text",
    "id": "wA3VPXlC2IZO"
   },
   "source": [
    "Here we create dummy variable of our category coloumn and append these dummy variable in our dataset"
   ]
  },
  {
   "cell_type": "code",
   "execution_count": 0,
   "metadata": {
    "colab": {
     "base_uri": "https://localhost:8080/",
     "height": 34
    },
    "colab_type": "code",
    "executionInfo": {
     "elapsed": 1656,
     "status": "ok",
     "timestamp": 1554873817419,
     "user": {
      "displayName": "ashish saha",
      "photoUrl": "",
      "userId": "18114302892867303288"
     },
     "user_tz": -330
    },
    "id": "BuuuQSomn4TF",
    "outputId": "d5eeff4f-d935-4c00-e510-7e8b02430213"
   },
   "outputs": [
    {
     "data": {
      "text/plain": [
       "(15634, 17)"
      ]
     },
     "execution_count": 26,
     "metadata": {
      "tags": []
     },
     "output_type": "execute_result"
    }
   ],
   "source": [
    "dummy_categories.shape"
   ]
  },
  {
   "cell_type": "code",
   "execution_count": 0,
   "metadata": {
    "colab": {},
    "colab_type": "code",
    "id": "0EaRpSFUHk4S"
   },
   "outputs": [],
   "source": [
    "Newdataset=pd.concat([dataset2,dummy_categories],axis=1)"
   ]
  },
  {
   "cell_type": "code",
   "execution_count": 0,
   "metadata": {
    "colab": {
     "base_uri": "https://localhost:8080/",
     "height": 440
    },
    "colab_type": "code",
    "executionInfo": {
     "elapsed": 2360,
     "status": "ok",
     "timestamp": 1554873827796,
     "user": {
      "displayName": "ashish saha",
      "photoUrl": "",
      "userId": "18114302892867303288"
     },
     "user_tz": -330
    },
    "id": "dSgO2_6QnuUm",
    "outputId": "770cec5b-7262-4648-fdd5-91cae8a94ecb"
   },
   "outputs": [
    {
     "data": {
      "text/html": [
       "<div>\n",
       "<style scoped>\n",
       "    .dataframe tbody tr th:only-of-type {\n",
       "        vertical-align: middle;\n",
       "    }\n",
       "\n",
       "    .dataframe tbody tr th {\n",
       "        vertical-align: top;\n",
       "    }\n",
       "\n",
       "    .dataframe thead th {\n",
       "        text-align: right;\n",
       "    }\n",
       "</style>\n",
       "<table border=\"1\" class=\"dataframe\">\n",
       "  <thead>\n",
       "    <tr style=\"text-align: right;\">\n",
       "      <th></th>\n",
       "      <th>_unit_id</th>\n",
       "      <th>category</th>\n",
       "      <th>category:confidence</th>\n",
       "      <th>image_url</th>\n",
       "      <th>image_number</th>\n",
       "      <th>OTHER</th>\n",
       "      <th>animal</th>\n",
       "      <th>cartoon</th>\n",
       "      <th>chevron</th>\n",
       "      <th>floral</th>\n",
       "      <th>...</th>\n",
       "      <th>ikat</th>\n",
       "      <th>letter_numb</th>\n",
       "      <th>plain</th>\n",
       "      <th>polka dot</th>\n",
       "      <th>scales</th>\n",
       "      <th>skull</th>\n",
       "      <th>squares</th>\n",
       "      <th>stars</th>\n",
       "      <th>stripes</th>\n",
       "      <th>tribal</th>\n",
       "    </tr>\n",
       "  </thead>\n",
       "  <tbody>\n",
       "    <tr>\n",
       "      <th>15629</th>\n",
       "      <td>851567928</td>\n",
       "      <td>plain</td>\n",
       "      <td>0.9232</td>\n",
       "      <td>http://s3-eu-west-1.amazonaws.com/we-attribute...</td>\n",
       "      <td>15629.jpg</td>\n",
       "      <td>0</td>\n",
       "      <td>0</td>\n",
       "      <td>0</td>\n",
       "      <td>0</td>\n",
       "      <td>0</td>\n",
       "      <td>...</td>\n",
       "      <td>0</td>\n",
       "      <td>0</td>\n",
       "      <td>1</td>\n",
       "      <td>0</td>\n",
       "      <td>0</td>\n",
       "      <td>0</td>\n",
       "      <td>0</td>\n",
       "      <td>0</td>\n",
       "      <td>0</td>\n",
       "      <td>0</td>\n",
       "    </tr>\n",
       "    <tr>\n",
       "      <th>15630</th>\n",
       "      <td>851568211</td>\n",
       "      <td>animal</td>\n",
       "      <td>0.7667</td>\n",
       "      <td>http://s3-eu-west-1.amazonaws.com/we-attribute...</td>\n",
       "      <td>15630.jpg</td>\n",
       "      <td>0</td>\n",
       "      <td>1</td>\n",
       "      <td>0</td>\n",
       "      <td>0</td>\n",
       "      <td>0</td>\n",
       "      <td>...</td>\n",
       "      <td>0</td>\n",
       "      <td>0</td>\n",
       "      <td>0</td>\n",
       "      <td>0</td>\n",
       "      <td>0</td>\n",
       "      <td>0</td>\n",
       "      <td>0</td>\n",
       "      <td>0</td>\n",
       "      <td>0</td>\n",
       "      <td>0</td>\n",
       "    </tr>\n",
       "    <tr>\n",
       "      <th>15631</th>\n",
       "      <td>854497512</td>\n",
       "      <td>squares</td>\n",
       "      <td>0.9230</td>\n",
       "      <td>http://s3-eu-west-1.amazonaws.com/we-attribute...</td>\n",
       "      <td>15631.jpg</td>\n",
       "      <td>0</td>\n",
       "      <td>0</td>\n",
       "      <td>0</td>\n",
       "      <td>0</td>\n",
       "      <td>0</td>\n",
       "      <td>...</td>\n",
       "      <td>0</td>\n",
       "      <td>0</td>\n",
       "      <td>0</td>\n",
       "      <td>0</td>\n",
       "      <td>0</td>\n",
       "      <td>0</td>\n",
       "      <td>1</td>\n",
       "      <td>0</td>\n",
       "      <td>0</td>\n",
       "      <td>0</td>\n",
       "    </tr>\n",
       "    <tr>\n",
       "      <th>15632</th>\n",
       "      <td>854497595</td>\n",
       "      <td>tribal</td>\n",
       "      <td>0.5199</td>\n",
       "      <td>http://s3-eu-west-1.amazonaws.com/we-attribute...</td>\n",
       "      <td>15632.jpg</td>\n",
       "      <td>0</td>\n",
       "      <td>0</td>\n",
       "      <td>0</td>\n",
       "      <td>0</td>\n",
       "      <td>0</td>\n",
       "      <td>...</td>\n",
       "      <td>0</td>\n",
       "      <td>0</td>\n",
       "      <td>0</td>\n",
       "      <td>0</td>\n",
       "      <td>0</td>\n",
       "      <td>0</td>\n",
       "      <td>0</td>\n",
       "      <td>0</td>\n",
       "      <td>0</td>\n",
       "      <td>1</td>\n",
       "    </tr>\n",
       "    <tr>\n",
       "      <th>15633</th>\n",
       "      <td>856388654</td>\n",
       "      <td>polka dot</td>\n",
       "      <td>0.9618</td>\n",
       "      <td>http://s3-eu-west-1.amazonaws.com/we-attribute...</td>\n",
       "      <td>15633.jpg</td>\n",
       "      <td>0</td>\n",
       "      <td>0</td>\n",
       "      <td>0</td>\n",
       "      <td>0</td>\n",
       "      <td>0</td>\n",
       "      <td>...</td>\n",
       "      <td>0</td>\n",
       "      <td>0</td>\n",
       "      <td>0</td>\n",
       "      <td>1</td>\n",
       "      <td>0</td>\n",
       "      <td>0</td>\n",
       "      <td>0</td>\n",
       "      <td>0</td>\n",
       "      <td>0</td>\n",
       "      <td>0</td>\n",
       "    </tr>\n",
       "  </tbody>\n",
       "</table>\n",
       "<p>5 rows × 22 columns</p>\n",
       "</div>"
      ],
      "text/plain": [
       "        _unit_id   category  category:confidence  \\\n",
       "15629  851567928      plain               0.9232   \n",
       "15630  851568211     animal               0.7667   \n",
       "15631  854497512    squares               0.9230   \n",
       "15632  854497595     tribal               0.5199   \n",
       "15633  856388654  polka dot               0.9618   \n",
       "\n",
       "                                               image_url image_number  OTHER  \\\n",
       "15629  http://s3-eu-west-1.amazonaws.com/we-attribute...    15629.jpg      0   \n",
       "15630  http://s3-eu-west-1.amazonaws.com/we-attribute...    15630.jpg      0   \n",
       "15631  http://s3-eu-west-1.amazonaws.com/we-attribute...    15631.jpg      0   \n",
       "15632  http://s3-eu-west-1.amazonaws.com/we-attribute...    15632.jpg      0   \n",
       "15633  http://s3-eu-west-1.amazonaws.com/we-attribute...    15633.jpg      0   \n",
       "\n",
       "       animal  cartoon  chevron  floral   ...    ikat  letter_numb  plain  \\\n",
       "15629       0        0        0       0   ...       0            0      1   \n",
       "15630       1        0        0       0   ...       0            0      0   \n",
       "15631       0        0        0       0   ...       0            0      0   \n",
       "15632       0        0        0       0   ...       0            0      0   \n",
       "15633       0        0        0       0   ...       0            0      0   \n",
       "\n",
       "       polka dot  scales  skull  squares  stars  stripes  tribal  \n",
       "15629          0       0      0        0      0        0       0  \n",
       "15630          0       0      0        0      0        0       0  \n",
       "15631          0       0      0        1      0        0       0  \n",
       "15632          0       0      0        0      0        0       1  \n",
       "15633          1       0      0        0      0        0       0  \n",
       "\n",
       "[5 rows x 22 columns]"
      ]
     },
     "execution_count": 28,
     "metadata": {
      "tags": []
     },
     "output_type": "execute_result"
    }
   ],
   "source": [
    "Newdataset.tail()"
   ]
  },
  {
   "cell_type": "code",
   "execution_count": 0,
   "metadata": {
    "colab": {},
    "colab_type": "code",
    "id": "YqDfqE_1H7FN"
   },
   "outputs": [],
   "source": [
    "Newdataset=Newdataset.drop(['_unit_id','category:confidence','image_url'],axis=1)"
   ]
  },
  {
   "cell_type": "markdown",
   "metadata": {
    "colab_type": "text",
    "id": "9KEKI_FT2jkK"
   },
   "source": [
    "drop unit_id , category confidence, image url cooumn from our dataset"
   ]
  },
  {
   "cell_type": "code",
   "execution_count": 0,
   "metadata": {
    "colab": {
     "base_uri": "https://localhost:8080/",
     "height": 357
    },
    "colab_type": "code",
    "executionInfo": {
     "elapsed": 1130,
     "status": "ok",
     "timestamp": 1554873840098,
     "user": {
      "displayName": "ashish saha",
      "photoUrl": "",
      "userId": "18114302892867303288"
     },
     "user_tz": -330
    },
    "id": "95caK3ImIxRi",
    "outputId": "2619b3ad-ea55-4bcb-a91c-db84866addc6"
   },
   "outputs": [
    {
     "data": {
      "text/plain": [
       "category        0\n",
       "image_number    0\n",
       "OTHER           0\n",
       "animal          0\n",
       "cartoon         0\n",
       "chevron         0\n",
       "floral          0\n",
       "geometry        0\n",
       "houndstooth     0\n",
       "ikat            0\n",
       "letter_numb     0\n",
       "plain           0\n",
       "polka dot       0\n",
       "scales          0\n",
       "skull           0\n",
       "squares         0\n",
       "stars           0\n",
       "stripes         0\n",
       "tribal          0\n",
       "dtype: int64"
      ]
     },
     "execution_count": 30,
     "metadata": {
      "tags": []
     },
     "output_type": "execute_result"
    }
   ],
   "source": [
    "Newdataset.isnull().sum()"
   ]
  },
  {
   "cell_type": "code",
   "execution_count": 0,
   "metadata": {
    "colab": {
     "base_uri": "https://localhost:8080/",
     "height": 241
    },
    "colab_type": "code",
    "executionInfo": {
     "elapsed": 2070,
     "status": "ok",
     "timestamp": 1554873849660,
     "user": {
      "displayName": "ashish saha",
      "photoUrl": "",
      "userId": "18114302892867303288"
     },
     "user_tz": -330
    },
    "id": "th-h9Fbuv-3u",
    "outputId": "dd084a6a-6ec9-4a00-ca97-86710bb2a5ac"
   },
   "outputs": [
    {
     "data": {
      "text/html": [
       "<div>\n",
       "<style scoped>\n",
       "    .dataframe tbody tr th:only-of-type {\n",
       "        vertical-align: middle;\n",
       "    }\n",
       "\n",
       "    .dataframe tbody tr th {\n",
       "        vertical-align: top;\n",
       "    }\n",
       "\n",
       "    .dataframe thead th {\n",
       "        text-align: right;\n",
       "    }\n",
       "</style>\n",
       "<table border=\"1\" class=\"dataframe\">\n",
       "  <thead>\n",
       "    <tr style=\"text-align: right;\">\n",
       "      <th></th>\n",
       "      <th>category</th>\n",
       "      <th>image_number</th>\n",
       "      <th>OTHER</th>\n",
       "      <th>animal</th>\n",
       "      <th>cartoon</th>\n",
       "      <th>chevron</th>\n",
       "      <th>floral</th>\n",
       "      <th>geometry</th>\n",
       "      <th>houndstooth</th>\n",
       "      <th>ikat</th>\n",
       "      <th>letter_numb</th>\n",
       "      <th>plain</th>\n",
       "      <th>polka dot</th>\n",
       "      <th>scales</th>\n",
       "      <th>skull</th>\n",
       "      <th>squares</th>\n",
       "      <th>stars</th>\n",
       "      <th>stripes</th>\n",
       "      <th>tribal</th>\n",
       "    </tr>\n",
       "  </thead>\n",
       "  <tbody>\n",
       "    <tr>\n",
       "      <th>15629</th>\n",
       "      <td>plain</td>\n",
       "      <td>15629.jpg</td>\n",
       "      <td>0</td>\n",
       "      <td>0</td>\n",
       "      <td>0</td>\n",
       "      <td>0</td>\n",
       "      <td>0</td>\n",
       "      <td>0</td>\n",
       "      <td>0</td>\n",
       "      <td>0</td>\n",
       "      <td>0</td>\n",
       "      <td>1</td>\n",
       "      <td>0</td>\n",
       "      <td>0</td>\n",
       "      <td>0</td>\n",
       "      <td>0</td>\n",
       "      <td>0</td>\n",
       "      <td>0</td>\n",
       "      <td>0</td>\n",
       "    </tr>\n",
       "    <tr>\n",
       "      <th>15630</th>\n",
       "      <td>animal</td>\n",
       "      <td>15630.jpg</td>\n",
       "      <td>0</td>\n",
       "      <td>1</td>\n",
       "      <td>0</td>\n",
       "      <td>0</td>\n",
       "      <td>0</td>\n",
       "      <td>0</td>\n",
       "      <td>0</td>\n",
       "      <td>0</td>\n",
       "      <td>0</td>\n",
       "      <td>0</td>\n",
       "      <td>0</td>\n",
       "      <td>0</td>\n",
       "      <td>0</td>\n",
       "      <td>0</td>\n",
       "      <td>0</td>\n",
       "      <td>0</td>\n",
       "      <td>0</td>\n",
       "    </tr>\n",
       "    <tr>\n",
       "      <th>15631</th>\n",
       "      <td>squares</td>\n",
       "      <td>15631.jpg</td>\n",
       "      <td>0</td>\n",
       "      <td>0</td>\n",
       "      <td>0</td>\n",
       "      <td>0</td>\n",
       "      <td>0</td>\n",
       "      <td>0</td>\n",
       "      <td>0</td>\n",
       "      <td>0</td>\n",
       "      <td>0</td>\n",
       "      <td>0</td>\n",
       "      <td>0</td>\n",
       "      <td>0</td>\n",
       "      <td>0</td>\n",
       "      <td>1</td>\n",
       "      <td>0</td>\n",
       "      <td>0</td>\n",
       "      <td>0</td>\n",
       "    </tr>\n",
       "    <tr>\n",
       "      <th>15632</th>\n",
       "      <td>tribal</td>\n",
       "      <td>15632.jpg</td>\n",
       "      <td>0</td>\n",
       "      <td>0</td>\n",
       "      <td>0</td>\n",
       "      <td>0</td>\n",
       "      <td>0</td>\n",
       "      <td>0</td>\n",
       "      <td>0</td>\n",
       "      <td>0</td>\n",
       "      <td>0</td>\n",
       "      <td>0</td>\n",
       "      <td>0</td>\n",
       "      <td>0</td>\n",
       "      <td>0</td>\n",
       "      <td>0</td>\n",
       "      <td>0</td>\n",
       "      <td>0</td>\n",
       "      <td>1</td>\n",
       "    </tr>\n",
       "    <tr>\n",
       "      <th>15633</th>\n",
       "      <td>polka dot</td>\n",
       "      <td>15633.jpg</td>\n",
       "      <td>0</td>\n",
       "      <td>0</td>\n",
       "      <td>0</td>\n",
       "      <td>0</td>\n",
       "      <td>0</td>\n",
       "      <td>0</td>\n",
       "      <td>0</td>\n",
       "      <td>0</td>\n",
       "      <td>0</td>\n",
       "      <td>0</td>\n",
       "      <td>1</td>\n",
       "      <td>0</td>\n",
       "      <td>0</td>\n",
       "      <td>0</td>\n",
       "      <td>0</td>\n",
       "      <td>0</td>\n",
       "      <td>0</td>\n",
       "    </tr>\n",
       "  </tbody>\n",
       "</table>\n",
       "</div>"
      ],
      "text/plain": [
       "        category image_number  OTHER  animal  cartoon  chevron  floral  \\\n",
       "15629      plain    15629.jpg      0       0        0        0       0   \n",
       "15630     animal    15630.jpg      0       1        0        0       0   \n",
       "15631    squares    15631.jpg      0       0        0        0       0   \n",
       "15632     tribal    15632.jpg      0       0        0        0       0   \n",
       "15633  polka dot    15633.jpg      0       0        0        0       0   \n",
       "\n",
       "       geometry  houndstooth  ikat  letter_numb  plain  polka dot  scales  \\\n",
       "15629         0            0     0            0      1          0       0   \n",
       "15630         0            0     0            0      0          0       0   \n",
       "15631         0            0     0            0      0          0       0   \n",
       "15632         0            0     0            0      0          0       0   \n",
       "15633         0            0     0            0      0          1       0   \n",
       "\n",
       "       skull  squares  stars  stripes  tribal  \n",
       "15629      0        0      0        0       0  \n",
       "15630      0        0      0        0       0  \n",
       "15631      0        1      0        0       0  \n",
       "15632      0        0      0        0       1  \n",
       "15633      0        0      0        0       0  "
      ]
     },
     "execution_count": 31,
     "metadata": {
      "tags": []
     },
     "output_type": "execute_result"
    }
   ],
   "source": [
    "Newdataset.tail()"
   ]
  },
  {
   "cell_type": "code",
   "execution_count": 0,
   "metadata": {
    "colab": {
     "base_uri": "https://localhost:8080/",
     "height": 102
    },
    "colab_type": "code",
    "executionInfo": {
     "elapsed": 2063,
     "status": "ok",
     "timestamp": 1554873856066,
     "user": {
      "displayName": "ashish saha",
      "photoUrl": "",
      "userId": "18114302892867303288"
     },
     "user_tz": -330
    },
    "id": "ZTgOszI4I0ZT",
    "outputId": "cbd27726-a1b5-4826-c778-ad0c4d8428f8"
   },
   "outputs": [
    {
     "data": {
      "text/plain": [
       "Index(['category', 'image_number', 'OTHER', 'animal', 'cartoon', 'chevron',\n",
       "       'floral', 'geometry', 'houndstooth', 'ikat', 'letter_numb', 'plain',\n",
       "       'polka dot', 'scales', 'skull', 'squares', 'stars', 'stripes',\n",
       "       'tribal'],\n",
       "      dtype='object')"
      ]
     },
     "execution_count": 32,
     "metadata": {
      "tags": []
     },
     "output_type": "execute_result"
    }
   ],
   "source": [
    "Newdataset.columns"
   ]
  },
  {
   "cell_type": "code",
   "execution_count": 0,
   "metadata": {
    "colab": {},
    "colab_type": "code",
    "id": "UE-o0_2cI7xz"
   },
   "outputs": [],
   "source": [
    "columns=['OTHER', 'animal', 'cartoon', 'chevron',\n",
    "       'floral', 'geometry', 'houndstooth', 'ikat', 'letter_numb', 'plain',\n",
    "       'polka dot', 'scales', 'skull', 'squares', 'stars', 'stripes',\n",
    "       'tribal']"
   ]
  },
  {
   "cell_type": "code",
   "execution_count": 0,
   "metadata": {
    "colab": {
     "base_uri": "https://localhost:8080/",
     "height": 139
    },
    "colab_type": "code",
    "executionInfo": {
     "elapsed": 2279,
     "status": "ok",
     "timestamp": 1554873912593,
     "user": {
      "displayName": "ashish saha",
      "photoUrl": "",
      "userId": "18114302892867303288"
     },
     "user_tz": -330
    },
    "id": "lz_VEzlx7MIu",
    "outputId": "8f7ece77-3c8c-4379-e5e2-590f218e056e"
   },
   "outputs": [
    {
     "name": "stdout",
     "output_type": "stream",
     "text": [
      "WARNING:tensorflow:From /usr/local/lib/python3.6/dist-packages/tensorflow/python/framework/op_def_library.py:263: colocate_with (from tensorflow.python.framework.ops) is deprecated and will be removed in a future version.\n",
      "Instructions for updating:\n",
      "Colocations handled automatically by placer.\n",
      "WARNING:tensorflow:From /usr/local/lib/python3.6/dist-packages/keras/backend/tensorflow_backend.py:3445: calling dropout (from tensorflow.python.ops.nn_ops) with keep_prob is deprecated and will be removed in a future version.\n",
      "Instructions for updating:\n",
      "Please use `rate` instead of `keep_prob`. Rate should be set to `rate = 1 - keep_prob`.\n"
     ]
    }
   ],
   "source": [
    "model = Sequential()\n",
    "model.add(Conv2D(32, (3, 3), padding='same',\n",
    "                 input_shape=(28,28,3)))\n",
    "model.add(Activation('relu'))\n",
    "model.add(Conv2D(32, (3, 3)))\n",
    "model.add(Activation('relu'))\n",
    "model.add(MaxPooling2D(pool_size=(2, 2)))\n",
    "model.add(Dropout(0.25))\n",
    "model.add(Conv2D(64, (3, 3), padding='same'))\n",
    "model.add(Activation('relu'))\n",
    "model.add(Conv2D(64, (3, 3)))\n",
    "model.add(Activation('relu'))\n",
    "model.add(MaxPooling2D(pool_size=(2, 2)))\n",
    "model.add(Dropout(0.25))\n",
    "model.add(Flatten())\n",
    "model.add(Dense(512))\n",
    "model.add(Activation('relu'))\n",
    "model.add(Dropout(0.5))\n",
    "model.add(Dense(17, activation='softmax'))\n",
    "model.compile(optimizers.Adam(lr=0.001, beta_1=0.9, beta_2=0.999, epsilon=None, decay=0.0, amsgrad=False),loss=\"categorical_crossentropy\",metrics=[\"accuracy\"])"
   ]
  },
  {
   "cell_type": "code",
   "execution_count": 42,
   "metadata": {
    "colab": {
     "base_uri": "https://localhost:8080/",
     "height": 51
    },
    "colab_type": "code",
    "executionInfo": {
     "elapsed": 9326,
     "status": "ok",
     "timestamp": 1554896822720,
     "user": {
      "displayName": "ashish saha",
      "photoUrl": "",
      "userId": "18114302892867303288"
     },
     "user_tz": -330
    },
    "id": "12iuIWKS65f2",
    "outputId": "9ad9ec13-34a5-4550-8491-e968fec8444a"
   },
   "outputs": [
    {
     "name": "stdout",
     "output_type": "stream",
     "text": [
      "Found 13984 images.\n",
      "Found 1650 images.\n"
     ]
    }
   ],
   "source": [
    "test_datagen=ImageDataGenerator(rescale=1./255.)\n",
    "\n",
    "train_generator=train_datagen.flow_from_dataframe(\n",
    "dataframe=Newdataset[:13984],\n",
    "directory=\"colabData/greendeck\",\n",
    "x_col=\"image_number\",\n",
    "y_col=columns,\n",
    "batch_size=32,\n",
    "seed=42,\n",
    "shuffle=True,\n",
    "class_mode=\"other\",\n",
    "target_size=(28,28))\n",
    "\n",
    "valid_generator=test_datagen.flow_from_dataframe(\n",
    "dataframe=Newdataset[13984:],\n",
    "directory=\"colabData/greendeck\",\n",
    "x_col=\"image_number\",\n",
    "y_col=columns,\n",
    "batch_size=32,\n",
    "seed=42,\n",
    "shuffle=True,\n",
    "class_mode=\"other\",\n",
    "target_size=(28,28))\n",
    "\n"
   ]
  },
  {
   "cell_type": "markdown",
   "metadata": {
    "colab_type": "text",
    "id": "HSM8-4B9Iea0"
   },
   "source": [
    "here we can see that 13984 images in training data that available in our drive, and 1650 images in our test data "
   ]
  },
  {
   "cell_type": "code",
   "execution_count": 0,
   "metadata": {
    "colab": {},
    "colab_type": "code",
    "id": "y3NLB01CIy8a"
   },
   "outputs": [],
   "source": [
    "STEP_SIZE_TRAIN=train_generator.n//train_generator.batch_size\n",
    "STEP_SIZE_VALID=valid_generator.n//valid_generator.batch_size\n",
    "STEP_SIZE_TEST=test_generator.n//test_generator.batch_size\n",
    "model.fit_generator(generator=train_generator,\n",
    "                    steps_per_epoch=STEP_SIZE_TRAIN,\n",
    "                    validation_data=valid_generator,\n",
    "                    validation_steps=STEP_SIZE_VALID,\n",
    "                    epochs=25)"
   ]
  },
  {
   "cell_type": "markdown",
   "metadata": {
    "colab_type": "text",
    "id": "PCoMtVjZji11"
   },
   "source": [
    "for fitting model in our image dataset.Here we take batch size of 32. its accuracy may be 70 percent on unknown dataset. it may be because it breaking on during training  on training dataset due to breaking of image dataset.it break on 2 epoch. but i analyse that in first epoch accuracy on training dataset accuracy is 54% but on test dataset accuracy is 56% , so in each epoch error rate deacreases and accuracy increases,here i use epoch 25 so as we know at iteration of epoch accuracy increase."
   ]
  },
  {
   "cell_type": "code",
   "execution_count": 0,
   "metadata": {
    "colab": {},
    "colab_type": "code",
    "id": "wy87SGuWjpYb"
   },
   "outputs": [],
   "source": []
  }
 ],
 "metadata": {
  "accelerator": "GPU",
  "colab": {
   "collapsed_sections": [],
   "name": "Untitled3.ipynb",
   "provenance": [],
   "version": "0.3.2"
  },
  "kernelspec": {
   "display_name": "Python 3",
   "language": "python",
   "name": "python3"
  },
  "language_info": {
   "codemirror_mode": {
    "name": "ipython",
    "version": 3
   },
   "file_extension": ".py",
   "mimetype": "text/x-python",
   "name": "python",
   "nbconvert_exporter": "python",
   "pygments_lexer": "ipython3",
   "version": "3.6.5"
  }
 },
 "nbformat": 4,
 "nbformat_minor": 1
}
